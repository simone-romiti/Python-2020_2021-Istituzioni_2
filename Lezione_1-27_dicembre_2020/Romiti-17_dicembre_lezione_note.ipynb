{
 "cells": [
  {
   "cell_type": "markdown",
   "metadata": {
    "nteract": {
     "transient": {
      "deleting": false
     }
    }
   },
   "source": [
    "# Introduction to python and sympy\n",
    "\n",
    "In this lecture we'll see the basics of python programming, focusing on the sympy module.\n",
    "Sympy is a CAS (Computer Algebra System), with many useful functionalities:\n",
    "\n",
    "* Solution of algebraic equations\n",
    "* Limits, derivatives, integrals\n",
    "* Linear algebra\n",
    "* 2D and 3D plot\n",
    "* and many more...\n",
    "\n",
    "for further reference see the [sympy website](https://www.sympy.org/en/index.html)"
   ]
  },
  {
   "cell_type": "markdown",
   "metadata": {
    "nteract": {
     "transient": {
      "deleting": false
     }
    }
   },
   "source": [
    "## Introduction to the python programming language\n",
    "\n",
    "Here we familiarize with the python language. We'll see how to:\n",
    "\n",
    "* Define variables\n",
    "* Combine them\n",
    "* Understand and use data types\n",
    "* Print variables on the screen\n",
    "* Control the program flow with **if-else** statements and **for**, **while** loops\n",
    "* Define functions"
   ]
  },
  {
   "cell_type": "markdown",
   "metadata": {
    "nteract": {
     "transient": {
      "deleting": false
     }
    }
   },
   "source": [
    "### Python basics"
   ]
  },
  {
   "cell_type": "code",
   "execution_count": 1,
   "metadata": {
    "execution": {
     "iopub.execute_input": "2021-01-04T07:33:30.849Z",
     "iopub.status.busy": "2021-01-04T07:33:30.837Z",
     "iopub.status.idle": "2021-01-04T07:33:30.869Z",
     "shell.execute_reply": "2021-01-04T07:33:30.881Z"
    },
    "jupyter": {
     "outputs_hidden": false,
     "source_hidden": false
    },
    "nteract": {
     "transient": {
      "deleting": false
     }
    }
   },
   "outputs": [],
   "source": [
    "a = 3 # define a number\n",
    "a1, a2 = 10, 45\n",
    "s1 = \"Physics\" # define a string\n",
    "s2 = \"Mathematics\" # anothe string\n",
    "s3 = \"Architecture\" # your favourite string!\n",
    "s4 = \"Python\" # today's string\n",
    "b = (s1 == s2) # define a boolean (True or False)"
   ]
  },
  {
   "cell_type": "code",
   "execution_count": 2,
   "metadata": {
    "execution": {
     "iopub.execute_input": "2021-01-04T07:33:31.139Z",
     "iopub.status.busy": "2021-01-04T07:33:31.127Z",
     "iopub.status.idle": "2021-01-04T07:33:31.164Z",
     "shell.execute_reply": "2021-01-04T07:33:31.176Z"
    },
    "jupyter": {
     "outputs_hidden": false,
     "source_hidden": false
    },
    "nteract": {
     "transient": {
      "deleting": false
     }
    }
   },
   "outputs": [
    {
     "name": "stdout",
     "output_type": "stream",
     "text": [
      "Hello!\n",
      "Good morning students! This is a lecture on Python\n"
     ]
    }
   ],
   "source": [
    "# We can print our variables\n",
    "print(\"Hello!\") # printing a string\n",
    "print(\"Good morning students!\",\"This is a lecture on\", s4) # printing more arguments"
   ]
  },
  {
   "cell_type": "code",
   "execution_count": 3,
   "metadata": {
    "execution": {
     "iopub.execute_input": "2021-01-04T07:33:31.531Z",
     "iopub.status.busy": "2021-01-04T07:33:31.519Z",
     "iopub.status.idle": "2021-01-04T07:33:31.558Z",
     "shell.execute_reply": "2021-01-04T07:33:31.570Z"
    },
    "jupyter": {
     "outputs_hidden": false,
     "source_hidden": false
    },
    "nteract": {
     "transient": {
      "deleting": false
     }
    }
   },
   "outputs": [
    {
     "name": "stdout",
     "output_type": "stream",
     "text": [
      "We can print other types of variables as well:\n",
      "3 is the magic number\n",
      "Is Physics the same thing as Mathematics ? False\n"
     ]
    }
   ],
   "source": [
    "print(\"We can print other types of variables as well:\")\n",
    "print(a, \"is the magic number\")\n",
    "print(\"Is\",s1,\"the same thing as\",s2, \"?\", b)"
   ]
  },
  {
   "cell_type": "code",
   "execution_count": 4,
   "metadata": {
    "execution": {
     "iopub.execute_input": "2021-01-04T07:33:32.057Z",
     "iopub.status.busy": "2021-01-04T07:33:32.044Z",
     "iopub.status.idle": "2021-01-04T07:33:32.085Z",
     "shell.execute_reply": "2021-01-04T07:33:32.098Z"
    },
    "jupyter": {
     "outputs_hidden": false,
     "source_hidden": false
    },
    "nteract": {
     "transient": {
      "deleting": false
     }
    }
   },
   "outputs": [
    {
     "name": "stdout",
     "output_type": "stream",
     "text": [
      "Now let's combine our variables!\n",
      "0.4 - 7.9 = -7.5\n",
      "Congratulations! You passed the exam with 30/30\n",
      "The string ' Architecture ' contains 12 characters\n"
     ]
    }
   ],
   "source": [
    "print(\"Now let's combine our variables!\")\n",
    "x1= 0.4\n",
    "x2 = 7.9\n",
    "print(x1, \"-\", x2, \"=\", x1-x2)\n",
    "\n",
    "p = \"Congratulations! You passed the exam with \" + \"30/30\"\n",
    "print(p)\n",
    "nA = len(s3) # length of the string (number of characters)\n",
    "print(\"The string '\",s3,\"' contains\", nA, \"characters\")"
   ]
  },
  {
   "cell_type": "code",
   "execution_count": 5,
   "metadata": {
    "execution": {
     "iopub.execute_input": "2021-01-04T07:33:32.496Z",
     "iopub.status.busy": "2021-01-04T07:33:32.484Z",
     "iopub.status.idle": "2021-01-04T07:33:32.522Z",
     "shell.execute_reply": "2021-01-04T07:33:32.534Z"
    },
    "jupyter": {
     "outputs_hidden": false,
     "source_hidden": false
    },
    "nteract": {
     "transient": {
      "deleting": false
     }
    }
   },
   "outputs": [
    {
     "name": "stdout",
     "output_type": "stream",
     "text": [
      "We can find out the data type of our variable:\n",
      "The type of 'a' is; <class 'int'>\n",
      "The type of 'x' is <class 'float'>\n",
      "'b' is a <class 'bool'>\n"
     ]
    }
   ],
   "source": [
    "print(\"We can find out the data type of our variable:\")\n",
    "print(\"The type of 'a' is;\", type(a))\n",
    "x = 29.8\n",
    "print(\"The type of 'x' is\", type(x))\n",
    "print(\"'b' is a\", type(b))"
   ]
  },
  {
   "cell_type": "code",
   "execution_count": 6,
   "metadata": {
    "execution": {
     "iopub.execute_input": "2021-01-04T07:33:33.329Z",
     "iopub.status.busy": "2021-01-04T07:33:33.316Z",
     "iopub.status.idle": "2021-01-04T07:33:33.356Z",
     "shell.execute_reply": "2021-01-04T07:33:33.369Z"
    },
    "jupyter": {
     "outputs_hidden": false,
     "source_hidden": false
    },
    "nteract": {
     "transient": {
      "deleting": false
     }
    }
   },
   "outputs": [
    {
     "name": "stdout",
     "output_type": "stream",
     "text": [
      "We can automate our processes defining functions\n",
      "We can call the function as many times we want\n",
      "Hi, my name is Laura\n",
      "Hi, my name is Camillo\n",
      "Hi, my name is Simone\n"
     ]
    }
   ],
   "source": [
    "print(\"We can automate our processes defining functions\")\n",
    "def introduce(name):\n",
    "    print(\"Hi, my name is\", name)\n",
    "\n",
    "print(\"We can call the function as many times we want\")\n",
    "introduce(\"Laura\")\n",
    "introduce(\"Camillo\")\n",
    "introduce(\"Simone\")"
   ]
  },
  {
   "cell_type": "markdown",
   "metadata": {
    "collapsed": true,
    "jupyter": {
     "outputs_hidden": false,
     "source_hidden": false
    },
    "nteract": {
     "transient": {
      "deleting": false
     }
    }
   },
   "source": [
    "### sympy basics"
   ]
  },
  {
   "cell_type": "code",
   "execution_count": 7,
   "metadata": {
    "execution": {
     "iopub.execute_input": "2021-01-04T07:33:35.086Z",
     "iopub.status.busy": "2021-01-04T07:33:35.073Z",
     "iopub.status.idle": "2021-01-04T07:33:35.300Z",
     "shell.execute_reply": "2021-01-04T07:33:35.285Z"
    }
   },
   "outputs": [],
   "source": [
    "from sympy import * # we import the entire sympy\n",
    "from sympy.plotting import * "
   ]
  },
  {
   "cell_type": "code",
   "execution_count": 8,
   "metadata": {
    "execution": {
     "iopub.execute_input": "2021-01-04T07:33:35.539Z",
     "iopub.status.busy": "2021-01-04T07:33:35.526Z",
     "iopub.status.idle": "2021-01-04T07:33:35.559Z",
     "shell.execute_reply": "2021-01-04T07:33:35.571Z"
    }
   },
   "outputs": [],
   "source": [
    "x, y, z = symbols('x y z') # defining symbols"
   ]
  },
  {
   "cell_type": "markdown",
   "metadata": {
    "nteract": {
     "transient": {
      "deleting": false
     }
    }
   },
   "source": [
    "### solution of algebraic equations"
   ]
  },
  {
   "cell_type": "code",
   "execution_count": 9,
   "metadata": {
    "execution": {
     "iopub.execute_input": "2021-01-04T07:33:36.441Z",
     "iopub.status.busy": "2021-01-04T07:33:36.428Z",
     "iopub.status.idle": "2021-01-04T07:33:36.487Z",
     "shell.execute_reply": "2021-01-04T07:33:36.499Z"
    },
    "scrolled": true
   },
   "outputs": [
    {
     "name": "stdout",
     "output_type": "stream",
     "text": [
      "We can solve algebraic equations\n",
      "[-2, 2]\n"
     ]
    },
    {
     "data": {
      "text/latex": [
       "$\\displaystyle x = -2$"
      ],
      "text/plain": [
       "Eq(x, -2)"
      ]
     },
     "metadata": {},
     "output_type": "display_data"
    },
    {
     "data": {
      "text/latex": [
       "$\\displaystyle x = 2$"
      ],
      "text/plain": [
       "Eq(x, 2)"
      ]
     },
     "metadata": {},
     "output_type": "display_data"
    }
   ],
   "source": [
    "print(\"We can solve algebraic equations\")\n",
    "S1 = solve(x**2-4, x)\n",
    "print(S1)\n",
    "for s in S1:\n",
    "    display(Eq(x,s))"
   ]
  },
  {
   "cell_type": "code",
   "execution_count": 10,
   "metadata": {
    "execution": {
     "iopub.execute_input": "2021-01-04T07:33:37.260Z",
     "iopub.status.busy": "2021-01-04T07:33:37.246Z",
     "iopub.status.idle": "2021-01-04T07:33:37.431Z",
     "shell.execute_reply": "2021-01-04T07:33:37.458Z"
    },
    "scrolled": true
   },
   "outputs": [
    {
     "name": "stdout",
     "output_type": "stream",
     "text": [
      "We want to solve the following equation:\n"
     ]
    },
    {
     "data": {
      "text/latex": [
       "$\\displaystyle x^{2} - y + 1 = 0$"
      ],
      "text/plain": [
       "Eq(x**2 - y + 1, 0)"
      ]
     },
     "metadata": {},
     "output_type": "display_data"
    },
    {
     "name": "stdout",
     "output_type": "stream",
     "text": [
      "The solutions are:\n"
     ]
    },
    {
     "data": {
      "text/latex": [
       "$\\displaystyle x = - \\sqrt{y - 1}$"
      ],
      "text/plain": [
       "Eq(x, -sqrt(y - 1))"
      ]
     },
     "metadata": {},
     "output_type": "display_data"
    },
    {
     "data": {
      "text/latex": [
       "$\\displaystyle x = \\sqrt{y - 1}$"
      ],
      "text/plain": [
       "Eq(x, sqrt(y - 1))"
      ]
     },
     "metadata": {},
     "output_type": "display_data"
    }
   ],
   "source": [
    "eqn = Eq(x**2-y+1, 0)\n",
    "print(\"We want to solve the following equation:\")\n",
    "display(eqn)\n",
    "print(\"The solutions are:\")\n",
    "S2 = solve(eqn,x)\n",
    "for s in S2:\n",
    "    display(Eq(x,s))"
   ]
  },
  {
   "cell_type": "code",
   "execution_count": 11,
   "metadata": {
    "execution": {
     "iopub.execute_input": "2021-01-04T07:33:37.884Z",
     "iopub.status.busy": "2021-01-04T07:33:37.871Z",
     "iopub.status.idle": "2021-01-04T07:33:37.976Z",
     "shell.execute_reply": "2021-01-04T07:33:37.989Z"
    }
   },
   "outputs": [
    {
     "name": "stdout",
     "output_type": "stream",
     "text": [
      "Here we solve the well known 2nd degree polynomial:\n"
     ]
    },
    {
     "data": {
      "text/latex": [
       "$\\displaystyle a x^{2} + b x + c = 0$"
      ],
      "text/plain": [
       "Eq(a*x**2 + b*x + c, 0)"
      ]
     },
     "metadata": {},
     "output_type": "display_data"
    },
    {
     "name": "stdout",
     "output_type": "stream",
     "text": [
      "The solutions are:\n"
     ]
    },
    {
     "data": {
      "text/latex": [
       "$\\displaystyle x = \\frac{- b + \\sqrt{- 4 a c + b^{2}}}{2 a}$"
      ],
      "text/plain": [
       "Eq(x, (-b + sqrt(-4*a*c + b**2))/(2*a))"
      ]
     },
     "metadata": {},
     "output_type": "display_data"
    },
    {
     "data": {
      "text/latex": [
       "$\\displaystyle x = - \\frac{b + \\sqrt{- 4 a c + b^{2}}}{2 a}$"
      ],
      "text/plain": [
       "Eq(x, -(b + sqrt(-4*a*c + b**2))/(2*a))"
      ]
     },
     "metadata": {},
     "output_type": "display_data"
    }
   ],
   "source": [
    "print(\"Here we solve the well known 2nd degree polynomial:\")\n",
    "a, b, c = symbols(\"a, b, c\")\n",
    "eqn = Eq(a*x**2 + b*x + c, 0)\n",
    "display(eqn)\n",
    "\n",
    "print(\"The solutions are:\")\n",
    "S2 = solve(eqn,x)\n",
    "\n",
    "for s in S2:\n",
    "    display(Eq(x,s))"
   ]
  },
  {
   "cell_type": "markdown",
   "metadata": {
    "nteract": {
     "transient": {
      "deleting": false
     }
    }
   },
   "source": [
    "#### Derivatives and integrals\n"
   ]
  },
  {
   "cell_type": "code",
   "execution_count": 12,
   "metadata": {
    "execution": {
     "iopub.execute_input": "2021-01-04T07:33:38.952Z",
     "iopub.status.busy": "2021-01-04T07:33:38.940Z",
     "iopub.status.idle": "2021-01-04T07:33:38.984Z",
     "shell.execute_reply": "2021-01-04T07:33:38.999Z"
    },
    "jupyter": {
     "outputs_hidden": false,
     "source_hidden": false
    },
    "nteract": {
     "transient": {
      "deleting": false
     }
    }
   },
   "outputs": [
    {
     "data": {
      "text/latex": [
       "$\\displaystyle - \\sin{\\left(x \\right)}$"
      ],
      "text/plain": [
       "-sin(x)"
      ]
     },
     "metadata": {},
     "output_type": "display_data"
    }
   ],
   "source": [
    "f1 = cos(x)\n",
    "display(diff(f1, x))"
   ]
  },
  {
   "cell_type": "code",
   "execution_count": 13,
   "metadata": {
    "execution": {
     "iopub.execute_input": "2021-01-04T07:33:39.485Z",
     "iopub.status.busy": "2021-01-04T07:33:39.472Z",
     "iopub.status.idle": "2021-01-04T07:33:39.554Z",
     "shell.execute_reply": "2021-01-04T07:33:39.567Z"
    },
    "jupyter": {
     "outputs_hidden": false,
     "source_hidden": false
    },
    "nteract": {
     "transient": {
      "deleting": false
     }
    }
   },
   "outputs": [
    {
     "data": {
      "text/latex": [
       "$\\displaystyle \\left(\\frac{e^{x} \\log{\\left(x \\right)}}{x^{5}}\\right)^{\\operatorname{atan}{\\left(x \\right)}}$"
      ],
      "text/plain": [
       "(exp(x)*log(x)/x**5)**atan(x)"
      ]
     },
     "metadata": {},
     "output_type": "display_data"
    },
    {
     "name": "stdout",
     "output_type": "stream",
     "text": [
      "the derivative is:\n"
     ]
    },
    {
     "data": {
      "text/latex": [
       "$\\displaystyle \\left(\\frac{e^{x} \\log{\\left(x \\right)}}{x^{5}}\\right)^{\\operatorname{atan}{\\left(x \\right)}} \\left(\\frac{x^{5} \\left(\\frac{e^{x} \\log{\\left(x \\right)}}{x^{5}} - \\frac{5 e^{x} \\log{\\left(x \\right)}}{x^{6}} + \\frac{e^{x}}{x^{6}}\\right) e^{- x} \\operatorname{atan}{\\left(x \\right)}}{\\log{\\left(x \\right)}} + \\frac{\\log{\\left(\\frac{e^{x} \\log{\\left(x \\right)}}{x^{5}} \\right)}}{x^{2} + 1}\\right)$"
      ],
      "text/plain": [
       "(exp(x)*log(x)/x**5)**atan(x)*(x**5*(exp(x)*log(x)/x**5 - 5*exp(x)*log(x)/x**6 + exp(x)/x**6)*exp(-x)*atan(x)/log(x) + log(exp(x)*log(x)/x**5)/(x**2 + 1))"
      ]
     },
     "metadata": {},
     "output_type": "display_data"
    }
   ],
   "source": [
    "f2 = (exp(x)*ln(x)/x**5)**(atan(x))\n",
    "display(f2)\n",
    "print(\"the derivative is:\")\n",
    "display(diff(f2, x))"
   ]
  },
  {
   "cell_type": "code",
   "execution_count": 14,
   "metadata": {
    "execution": {
     "iopub.execute_input": "2021-01-04T07:33:40.114Z",
     "iopub.status.busy": "2021-01-04T07:33:40.100Z",
     "iopub.status.idle": "2021-01-04T07:33:40.149Z",
     "shell.execute_reply": "2021-01-04T07:33:40.163Z"
    },
    "jupyter": {
     "outputs_hidden": false,
     "source_hidden": false
    },
    "nteract": {
     "transient": {
      "deleting": false
     }
    }
   },
   "outputs": [
    {
     "data": {
      "text/latex": [
       "$\\displaystyle \\int \\cos{\\left(x \\right)}\\, dx = \\sin{\\left(x \\right)}$"
      ],
      "text/plain": [
       "Eq(Integral(cos(x), x), sin(x))"
      ]
     },
     "metadata": {},
     "output_type": "display_data"
    }
   ],
   "source": [
    "I1 = Integral(f1, x)\n",
    "display(Eq(I1, I1.doit()))"
   ]
  },
  {
   "cell_type": "code",
   "execution_count": 15,
   "metadata": {
    "execution": {
     "iopub.execute_input": "2021-01-04T07:33:40.751Z",
     "iopub.status.busy": "2021-01-04T07:33:40.737Z",
     "iopub.status.idle": "2021-01-04T07:33:40.785Z",
     "shell.execute_reply": "2021-01-04T07:33:40.817Z"
    },
    "jupyter": {
     "outputs_hidden": false,
     "source_hidden": false
    },
    "nteract": {
     "transient": {
      "deleting": false
     }
    }
   },
   "outputs": [
    {
     "data": {
      "text/latex": [
       "$\\displaystyle \\frac{x^{5} \\log{\\left(x \\right)}}{5} - \\frac{x^{5}}{25}$"
      ],
      "text/plain": [
       "x**5*log(x)/5 - x**5/25"
      ]
     },
     "metadata": {},
     "output_type": "display_data"
    }
   ],
   "source": [
    "f3 = (x**4) * log(x)\n",
    "I3 = Integral(f3,x)\n",
    "display(I3.doit())"
   ]
  },
  {
   "cell_type": "markdown",
   "metadata": {
    "collapsed": true,
    "jupyter": {
     "outputs_hidden": false,
     "source_hidden": false
    },
    "nteract": {
     "transient": {
      "deleting": false
     }
    }
   },
   "source": [
    "### Matrices and vectors\n",
    "\n",
    "Sympy can help us with linear algebra as well"
   ]
  },
  {
   "cell_type": "markdown",
   "metadata": {},
   "source": [
    "#### Vectors"
   ]
  },
  {
   "cell_type": "code",
   "execution_count": 16,
   "metadata": {
    "execution": {
     "iopub.execute_input": "2021-01-04T07:33:42.144Z",
     "iopub.status.busy": "2021-01-04T07:33:42.131Z",
     "iopub.status.idle": "2021-01-04T07:33:42.165Z",
     "shell.execute_reply": "2021-01-04T07:33:42.178Z"
    }
   },
   "outputs": [],
   "source": [
    "u=Matrix([1,3,5])\n",
    "v=Matrix([3,1,1])"
   ]
  },
  {
   "cell_type": "code",
   "execution_count": 17,
   "metadata": {
    "execution": {
     "iopub.execute_input": "2021-01-04T07:33:42.868Z",
     "iopub.status.busy": "2021-01-04T07:33:42.856Z",
     "iopub.status.idle": "2021-01-04T07:33:42.899Z",
     "shell.execute_reply": "2021-01-04T07:33:42.912Z"
    },
    "scrolled": true
   },
   "outputs": [
    {
     "data": {
      "text/latex": [
       "$\\displaystyle \\left[\\begin{matrix}1\\\\3\\\\5\\end{matrix}\\right]$"
      ],
      "text/plain": [
       "Matrix([\n",
       "[1],\n",
       "[3],\n",
       "[5]])"
      ]
     },
     "metadata": {},
     "output_type": "display_data"
    }
   ],
   "source": [
    "display(u)"
   ]
  },
  {
   "cell_type": "code",
   "execution_count": 18,
   "metadata": {
    "execution": {
     "iopub.execute_input": "2021-01-04T07:33:43.618Z",
     "iopub.status.busy": "2021-01-04T07:33:43.606Z",
     "iopub.status.idle": "2021-01-04T07:33:43.647Z",
     "shell.execute_reply": "2021-01-04T07:33:43.660Z"
    }
   },
   "outputs": [
    {
     "data": {
      "text/latex": [
       "$\\displaystyle 1$"
      ],
      "text/plain": [
       "1"
      ]
     },
     "metadata": {},
     "output_type": "display_data"
    }
   ],
   "source": [
    "display(u[0])"
   ]
  },
  {
   "cell_type": "code",
   "execution_count": 19,
   "metadata": {
    "execution": {
     "iopub.execute_input": "2021-01-04T07:33:44.213Z",
     "iopub.status.busy": "2021-01-04T07:33:44.199Z",
     "iopub.status.idle": "2021-01-04T07:33:44.242Z",
     "shell.execute_reply": "2021-01-04T07:33:44.255Z"
    }
   },
   "outputs": [
    {
     "data": {
      "text/latex": [
       "$\\displaystyle 11$"
      ],
      "text/plain": [
       "11"
      ]
     },
     "execution_count": 19,
     "metadata": {},
     "output_type": "execute_result"
    }
   ],
   "source": [
    "u.dot(v) # scalar product"
   ]
  },
  {
   "cell_type": "code",
   "execution_count": 20,
   "metadata": {
    "execution": {
     "iopub.execute_input": "2021-01-04T07:33:44.798Z",
     "iopub.status.busy": "2021-01-04T07:33:44.785Z",
     "iopub.status.idle": "2021-01-04T07:33:44.830Z",
     "shell.execute_reply": "2021-01-04T07:33:44.842Z"
    }
   },
   "outputs": [
    {
     "data": {
      "text/latex": [
       "$\\displaystyle \\left[\\begin{matrix}-2\\\\14\\\\-8\\end{matrix}\\right]$"
      ],
      "text/plain": [
       "Matrix([\n",
       "[-2],\n",
       "[14],\n",
       "[-8]])"
      ]
     },
     "execution_count": 20,
     "metadata": {},
     "output_type": "execute_result"
    }
   ],
   "source": [
    "u.cross(v) # cross product"
   ]
  },
  {
   "cell_type": "markdown",
   "metadata": {},
   "source": [
    "#### Matrices"
   ]
  },
  {
   "cell_type": "code",
   "execution_count": 21,
   "metadata": {
    "execution": {
     "iopub.execute_input": "2021-01-04T07:33:46.063Z",
     "iopub.status.busy": "2021-01-04T07:33:46.051Z",
     "iopub.status.idle": "2021-01-04T07:33:46.104Z",
     "shell.execute_reply": "2021-01-04T07:33:46.117Z"
    }
   },
   "outputs": [
    {
     "data": {
      "text/latex": [
       "$\\displaystyle \\left[\\begin{matrix}1 & 3 & 5\\\\1 & 4 & 2\\\\3 & 1 & 3\\end{matrix}\\right]$"
      ],
      "text/plain": [
       "Matrix([\n",
       "[1, 3, 5],\n",
       "[1, 4, 2],\n",
       "[3, 1, 3]])"
      ]
     },
     "metadata": {},
     "output_type": "display_data"
    }
   ],
   "source": [
    "M1 = Matrix([[1,3,5],[1,4,2],[3,1,3]])\n",
    "display(M1)"
   ]
  },
  {
   "cell_type": "code",
   "execution_count": 22,
   "metadata": {
    "execution": {
     "iopub.execute_input": "2021-01-04T07:33:46.749Z",
     "iopub.status.busy": "2021-01-04T07:33:46.736Z",
     "iopub.status.idle": "2021-01-04T07:33:46.779Z",
     "shell.execute_reply": "2021-01-04T07:33:46.791Z"
    }
   },
   "outputs": [
    {
     "data": {
      "text/latex": [
       "$\\displaystyle 5$"
      ],
      "text/plain": [
       "5"
      ]
     },
     "execution_count": 22,
     "metadata": {},
     "output_type": "execute_result"
    }
   ],
   "source": [
    "M1[0,2]"
   ]
  },
  {
   "cell_type": "markdown",
   "metadata": {},
   "source": [
    "### Product between matrices\n",
    "\n",
    "Given two matrices $A_{i,j} (n,m) $ and $B_{i,j} (m,p)$, we define the **rows** $\\times$ **columns** product as the matrix $C_{i,j} (n,p)$ with elements:\n",
    "\n",
    "$$C_{i,j} = \\sum_{k=1}^{m} A_{i,k} \\, B_{k,j}$$\n",
    "\n",
    "![file](./Matrix_multiplication.png)"
   ]
  },
  {
   "cell_type": "code",
   "execution_count": 23,
   "metadata": {
    "execution": {
     "iopub.execute_input": "2021-01-04T07:33:48.480Z",
     "iopub.status.busy": "2021-01-04T07:33:48.468Z",
     "iopub.status.idle": "2021-01-04T07:33:48.512Z",
     "shell.execute_reply": "2021-01-04T07:33:48.524Z"
    }
   },
   "outputs": [
    {
     "data": {
      "text/latex": [
       "$\\displaystyle \\left[\\begin{matrix}35\\\\23\\\\21\\end{matrix}\\right]$"
      ],
      "text/plain": [
       "Matrix([\n",
       "[35],\n",
       "[23],\n",
       "[21]])"
      ]
     },
     "execution_count": 23,
     "metadata": {},
     "output_type": "execute_result"
    }
   ],
   "source": [
    "M1*u"
   ]
  },
  {
   "cell_type": "code",
   "execution_count": 24,
   "metadata": {
    "execution": {
     "iopub.execute_input": "2021-01-04T07:33:49.417Z",
     "iopub.status.busy": "2021-01-04T07:33:49.402Z",
     "iopub.status.idle": "2021-01-04T07:33:49.451Z",
     "shell.execute_reply": "2021-01-04T07:33:49.466Z"
    }
   },
   "outputs": [
    {
     "data": {
      "text/latex": [
       "$\\displaystyle \\left[\\begin{matrix}8 & 3 & 2\\\\3 & 2 & 2\\end{matrix}\\right]$"
      ],
      "text/plain": [
       "Matrix([\n",
       "[8, 3, 2],\n",
       "[3, 2, 2]])"
      ]
     },
     "metadata": {},
     "output_type": "display_data"
    }
   ],
   "source": [
    "M2=Matrix([[8,3,2],[3,2,2]]) # list of rows\n",
    "display(M2)"
   ]
  },
  {
   "cell_type": "code",
   "execution_count": 25,
   "metadata": {
    "execution": {
     "iopub.execute_input": "2021-01-04T07:33:50.015Z",
     "iopub.status.busy": "2021-01-04T07:33:50.002Z",
     "iopub.status.idle": "2021-01-04T07:33:50.047Z",
     "shell.execute_reply": "2021-01-04T07:33:50.061Z"
    },
    "scrolled": true
   },
   "outputs": [
    {
     "data": {
      "text/latex": [
       "$\\displaystyle \\left[\\begin{matrix}17 & 38 & 52\\\\11 & 19 & 25\\end{matrix}\\right]$"
      ],
      "text/plain": [
       "Matrix([\n",
       "[17, 38, 52],\n",
       "[11, 19, 25]])"
      ]
     },
     "metadata": {},
     "output_type": "display_data"
    }
   ],
   "source": [
    "display(M2*M1) "
   ]
  },
  {
   "cell_type": "markdown",
   "metadata": {},
   "source": [
    "## Critical points\n",
    "\n",
    "Here we define some function needed to study the critical points of 2-variables functions."
   ]
  },
  {
   "cell_type": "code",
   "execution_count": 26,
   "metadata": {
    "execution": {
     "iopub.execute_input": "2021-01-04T07:33:51.429Z",
     "iopub.status.busy": "2021-01-04T07:33:51.416Z",
     "iopub.status.idle": "2021-01-04T07:33:51.461Z",
     "shell.execute_reply": "2021-01-04T07:33:51.475Z"
    }
   },
   "outputs": [
    {
     "data": {
      "text/latex": [
       "$\\displaystyle \\left[\\begin{matrix}3 x^{2}\\\\1\\end{matrix}\\right]$"
      ],
      "text/plain": [
       "Matrix([\n",
       "[3*x**2],\n",
       "[     1]])"
      ]
     },
     "metadata": {},
     "output_type": "display_data"
    }
   ],
   "source": [
    "def grad2(f, x, y):\n",
    "    return Matrix([diff(f, x), diff(f, y)])\n",
    "\n",
    "display(grad2(x**3 +y, x, y))"
   ]
  },
  {
   "cell_type": "code",
   "execution_count": 27,
   "metadata": {
    "execution": {
     "iopub.execute_input": "2021-01-04T07:33:52.031Z",
     "iopub.status.busy": "2021-01-04T07:33:52.018Z",
     "iopub.status.idle": "2021-01-04T07:33:52.069Z",
     "shell.execute_reply": "2021-01-04T07:33:52.082Z"
    }
   },
   "outputs": [
    {
     "data": {
      "text/latex": [
       "$\\displaystyle \\left[\\begin{matrix}- \\sin{\\left(x \\right)} \\cos{\\left(y \\right)} & - \\sin{\\left(y \\right)} \\cos{\\left(x \\right)}\\\\- \\sin{\\left(y \\right)} \\cos{\\left(x \\right)} & - \\sin{\\left(x \\right)} \\cos{\\left(y \\right)}\\end{matrix}\\right]$"
      ],
      "text/plain": [
       "Matrix([\n",
       "[-sin(x)*cos(y), -sin(y)*cos(x)],\n",
       "[-sin(y)*cos(x), -sin(x)*cos(y)]])"
      ]
     },
     "metadata": {},
     "output_type": "display_data"
    }
   ],
   "source": [
    "def hess2(f, x, y):\n",
    "    g = grad2(f,x,y)\n",
    "    r0 = [diff(g[0],x), diff(g[0],y)]\n",
    "    r1 = [diff(g[1],x), diff(g[1],y)]\n",
    "    return Matrix([r0, r1])\n",
    "\n",
    "display(hess2(sin(x)*cos(y), x, y))"
   ]
  },
  {
   "cell_type": "markdown",
   "metadata": {},
   "source": [
    "### Exercises"
   ]
  },
  {
   "cell_type": "markdown",
   "metadata": {},
   "source": [
    "1. find gradient adn hessian of the following function\n",
    "\n",
    "$$f(x,y) = 2(x+y)^2 -x^4 - y^4$$"
   ]
  },
  {
   "cell_type": "code",
   "execution_count": 28,
   "metadata": {
    "execution": {
     "iopub.execute_input": "2021-01-04T07:33:55.591Z",
     "iopub.status.busy": "2021-01-04T07:33:55.578Z",
     "iopub.status.idle": "2021-01-04T07:33:55.624Z",
     "shell.execute_reply": "2021-01-04T07:33:55.637Z"
    }
   },
   "outputs": [
    {
     "data": {
      "text/latex": [
       "$\\displaystyle - x^{4} - y^{4} + 2 \\left(x + y\\right)^{2}$"
      ],
      "text/plain": [
       "-x**4 - y**4 + 2*(x + y)**2"
      ]
     },
     "metadata": {},
     "output_type": "display_data"
    }
   ],
   "source": [
    "# from sympy.abc import x\n",
    "# from sympy import Poly\n",
    "from sympy.solvers.inequalities import solve_rational_inequalities\n",
    "x, y = symbols(\"x, y\")\n",
    "f = 2*(x+y)**2 - x**4 -y**4\n",
    "display(f)\n"
   ]
  },
  {
   "cell_type": "code",
   "execution_count": 29,
   "metadata": {
    "execution": {
     "iopub.execute_input": "2021-01-04T07:33:56.346Z",
     "iopub.status.busy": "2021-01-04T07:33:56.333Z",
     "iopub.status.idle": "2021-01-04T07:33:56.389Z",
     "shell.execute_reply": "2021-01-04T07:33:56.402Z"
    }
   },
   "outputs": [
    {
     "data": {
      "text/latex": [
       "$\\displaystyle \\left[\\begin{matrix}- 4 x^{3} + 4 x + 4 y\\\\4 x - 4 y^{3} + 4 y\\end{matrix}\\right]$"
      ],
      "text/plain": [
       "Matrix([\n",
       "[-4*x**3 + 4*x + 4*y],\n",
       "[ 4*x - 4*y**3 + 4*y]])"
      ]
     },
     "metadata": {},
     "output_type": "display_data"
    }
   ],
   "source": [
    "g = grad2(f, x, y)\n",
    "display(g)"
   ]
  },
  {
   "cell_type": "code",
   "execution_count": 30,
   "metadata": {
    "execution": {
     "iopub.execute_input": "2021-01-04T07:33:57.492Z",
     "iopub.status.busy": "2021-01-04T07:33:57.478Z",
     "iopub.status.idle": "2021-01-04T07:33:57.525Z",
     "shell.execute_reply": "2021-01-04T07:33:57.538Z"
    }
   },
   "outputs": [
    {
     "data": {
      "text/latex": [
       "$\\displaystyle \\left[\\begin{matrix}4 - 12 x^{2} & 4\\\\4 & 4 - 12 y^{2}\\end{matrix}\\right]$"
      ],
      "text/plain": [
       "Matrix([\n",
       "[4 - 12*x**2,           4],\n",
       "[          4, 4 - 12*y**2]])"
      ]
     },
     "metadata": {},
     "output_type": "display_data"
    }
   ],
   "source": [
    "H = hess2(f, x, y)\n",
    "display(H)"
   ]
  },
  {
   "cell_type": "code",
   "execution_count": null,
   "metadata": {},
   "outputs": [],
   "source": []
  },
  {
   "cell_type": "markdown",
   "metadata": {
    "nteract": {
     "transient": {
      "deleting": false
     }
    }
   },
   "source": [
    "### Plotting\n",
    "\n",
    "Sympy can be used for plotting mas well"
   ]
  },
  {
   "cell_type": "code",
   "execution_count": 31,
   "metadata": {
    "execution": {
     "iopub.execute_input": "2021-01-04T07:34:00.864Z",
     "iopub.status.busy": "2021-01-04T07:34:00.852Z",
     "iopub.status.idle": "2021-01-04T07:34:00.887Z",
     "shell.execute_reply": "2021-01-04T07:34:00.899Z"
    }
   },
   "outputs": [],
   "source": [
    "from sympy import *\n",
    "from sympy.plotting import *\n",
    "x, y, z = symbols(\"x, y, z\")\n",
    "t = symbols(\"t\")"
   ]
  },
  {
   "cell_type": "markdown",
   "metadata": {},
   "source": [
    "We now plot the function:\n",
    "\n",
    "$$f(x) = 1 + \\sin{\\left(x - \\frac{\\pi}{2}\\right)}$$"
   ]
  },
  {
   "cell_type": "code",
   "execution_count": 32,
   "metadata": {
    "execution": {
     "iopub.execute_input": "2021-01-04T07:34:02.536Z",
     "iopub.status.busy": "2021-01-04T07:34:02.523Z",
     "iopub.status.idle": "2021-01-04T07:34:02.556Z",
     "shell.execute_reply": "2021-01-04T07:34:02.568Z"
    }
   },
   "outputs": [],
   "source": [
    "def fun(x):\n",
    "    return 1 + sin(x - pi/2)"
   ]
  },
  {
   "cell_type": "code",
   "execution_count": 33,
   "metadata": {
    "execution": {
     "iopub.execute_input": "2021-01-04T07:34:03.815Z",
     "iopub.status.busy": "2021-01-04T07:34:03.801Z",
     "iopub.status.idle": "2021-01-04T07:34:04.154Z",
     "shell.execute_reply": "2021-01-04T07:34:04.176Z"
    },
    "scrolled": true
   },
   "outputs": [
    {
     "data": {
      "image/png": "[encoded data removed]",
      "text/plain": [
       "<Figure size 432x288 with 1 Axes>"
      ]
     },
     "metadata": {
      "needs_background": "light"
     },
     "output_type": "display_data"
    },
    {
     "data": {
      "text/plain": [
       "<sympy.plotting.plot.Plot at 0x7fa12a13dc40>"
      ]
     },
     "execution_count": 33,
     "metadata": {},
     "output_type": "execute_result"
    }
   ],
   "source": [
    "# %matplotlib notebook\n",
    "plot(fun(x), (x,-4,4))"
   ]
  },
  {
   "cell_type": "markdown",
   "metadata": {},
   "source": [
    "We can do 3D plots as well. Below we plot\n",
    "$$f(x,y) = y \\sin{(x)}$$"
   ]
  },
  {
   "cell_type": "code",
   "execution_count": null,
   "metadata": {
    "execution": {
     "iopub.execute_input": "2021-01-04T07:33:09.125Z",
     "iopub.status.busy": "2021-01-04T07:33:09.112Z",
     "iopub.status.idle": "2021-01-04T07:33:09.161Z",
     "shell.execute_reply": "2021-01-04T07:33:10.621Z"
    }
   },
   "outputs": [],
   "source": [
    "# %matplotlib notebook\n",
    "plot3d(y*sin(x), (x,-5,5),(y,-5,5))"
   ]
  },
  {
   "cell_type": "markdown",
   "metadata": {},
   "source": [
    "Here:\n",
    "\n",
    "$$f_1(x,y)= +\\sqrt{x^2+y^2} $$\n",
    "$$f_2(x,y)= -\\sqrt{x^2+y^2} $$\n",
    "which are the explicit solutions of:\n",
    "$$x^2 + y^2 - z^2 = 0$$"
   ]
  },
  {
   "cell_type": "code",
   "execution_count": 34,
   "metadata": {
    "execution": {
     "iopub.execute_input": "2021-01-04T07:34:12.364Z",
     "iopub.status.busy": "2021-01-04T07:34:12.350Z",
     "iopub.status.idle": "2021-01-04T07:34:12.665Z",
     "shell.execute_reply": "2021-01-04T07:34:12.690Z"
    },
    "scrolled": true
   },
   "outputs": [
    {
     "data": {
      "image/png": "[encoded data removed]",
      "text/plain": [
       "<Figure size 432x288 with 1 Axes>"
      ]
     },
     "metadata": {
      "needs_background": "light"
     },
     "output_type": "display_data"
    },
    {
     "data": {
      "text/plain": [
       "<sympy.plotting.plot.Plot at 0x7fa12a13ddf0>"
      ]
     },
     "execution_count": 34,
     "metadata": {},
     "output_type": "execute_result"
    }
   ],
   "source": [
    "# %matplotlib notebook\n",
    "plot3d(sqrt(x**2+y**2),-sqrt(x**2+y**2), (x,-5,5),(y,-5,5))"
   ]
  },
  {
   "cell_type": "markdown",
   "metadata": {},
   "source": [
    "Now we draw an circumference:\n",
    "$$x^2 + y^2 = 16$$"
   ]
  },
  {
   "cell_type": "code",
   "execution_count": 35,
   "metadata": {
    "execution": {
     "iopub.execute_input": "2021-01-04T07:34:14.506Z",
     "iopub.status.busy": "2021-01-04T07:34:14.492Z",
     "iopub.status.idle": "2021-01-04T07:34:14.771Z",
     "shell.execute_reply": "2021-01-04T07:34:14.794Z"
    }
   },
   "outputs": [
    {
     "data": {
      "image/png": "[encoded data removed]",
      "text/plain": [
       "<Figure size 432x288 with 1 Axes>"
      ]
     },
     "metadata": {
      "needs_background": "light"
     },
     "output_type": "display_data"
    },
    {
     "data": {
      "text/plain": [
       "<sympy.plotting.plot.Plot at 0x7fa12a144040>"
      ]
     },
     "execution_count": 35,
     "metadata": {},
     "output_type": "execute_result"
    }
   ],
   "source": [
    "plot_implicit(Eq(x**2+y**2,16),(x,-5,5),(y,-5,5), aspect_ratio=(1,1))"
   ]
  },
  {
   "cell_type": "markdown",
   "metadata": {},
   "source": [
    "Here an hyperbola:\n",
    "$$x^2 - y^2 = 1$$\n",
    "\n",
    "with asymptotes:\n",
    "$$y = \\pm x$$"
   ]
  },
  {
   "cell_type": "code",
   "execution_count": 36,
   "metadata": {
    "execution": {
     "iopub.execute_input": "2021-01-04T07:34:16.536Z",
     "iopub.status.busy": "2021-01-04T07:34:16.522Z",
     "iopub.status.idle": "2021-01-04T07:34:17.197Z",
     "shell.execute_reply": "2021-01-04T07:34:17.248Z"
    }
   },
   "outputs": [
    {
     "data": {
      "image/png": "[encoded data removed]",
      "text/plain": [
       "<Figure size 432x288 with 1 Axes>"
      ]
     },
     "metadata": {
      "needs_background": "light"
     },
     "output_type": "display_data"
    },
    {
     "data": {
      "text/plain": [
       "<sympy.plotting.plot.Plot at 0x7fa12278b430>"
      ]
     },
     "execution_count": 36,
     "metadata": {},
     "output_type": "execute_result"
    }
   ],
   "source": [
    "hyp = (x**2-y**2-1)\n",
    "as1 = (y-x)\n",
    "as2 = (y+x)\n",
    "\n",
    "plot_implicit(Eq(hyp*as1*as2,0), (x,-5,5),(y,-5,5), aspect_ratio=(1,1))"
   ]
  },
  {
   "cell_type": "markdown",
   "metadata": {},
   "source": [
    "### Parametric plots\n",
    "\n",
    "We can draw curves using the parametric representation:\n",
    "$$\\vec{r}(t) = \\vec{f}(t)$$"
   ]
  },
  {
   "cell_type": "markdown",
   "metadata": {},
   "source": [
    "Consider the simple case of a circumference of radius $R=1$. The parametrization is:\n",
    "\n",
    "$$x(t) = \\cos{(t)} $$\n",
    "$$y(t) = \\sin{(t)}$$\n",
    "\n",
    "for $t \\in [0,2\\pi)$"
   ]
  },
  {
   "cell_type": "code",
   "execution_count": 37,
   "metadata": {
    "execution": {
     "iopub.execute_input": "2021-01-04T07:34:17.528Z",
     "iopub.status.busy": "2021-01-04T07:34:17.514Z",
     "iopub.status.idle": "2021-01-04T07:34:17.636Z",
     "shell.execute_reply": "2021-01-04T07:34:17.650Z"
    }
   },
   "outputs": [
    {
     "data": {
      "image/png": "[encoded data removed]",
      "text/plain": [
       "<Figure size 432x288 with 1 Axes>"
      ]
     },
     "metadata": {
      "needs_background": "light"
     },
     "output_type": "display_data"
    },
    {
     "data": {
      "text/plain": [
       "<sympy.plotting.plot.Plot at 0x7fa122905850>"
      ]
     },
     "execution_count": 37,
     "metadata": {},
     "output_type": "execute_result"
    }
   ],
   "source": [
    "plot_parametric(cos(t),sin(t),(t,0,2*pi),aspect_ratio=(1,1))"
   ]
  },
  {
   "cell_type": "markdown",
   "metadata": {},
   "source": [
    "Now let's dive in to some more complicated example: a [cardioid](https://en.wikipedia.org/wiki/Cardioid) with radius $a=1$.\n",
    "This is the movement of a point of a circumference rounding up to another.\n",
    "\n",
    "$$x(t) = (1 - \\cos{(t)})\\,\\cos{(t)}$$\n",
    "$$y(t) = (1 - \\cos{(t)})\\,\\sin{(t)}$$\n"
   ]
  },
  {
   "cell_type": "code",
   "execution_count": 38,
   "metadata": {
    "execution": {
     "iopub.execute_input": "2021-01-04T07:34:18.705Z",
     "iopub.status.busy": "2021-01-04T07:34:18.691Z",
     "iopub.status.idle": "2021-01-04T07:34:18.801Z",
     "shell.execute_reply": "2021-01-04T07:34:18.824Z"
    }
   },
   "outputs": [
    {
     "data": {
      "image/png": "[encoded data removed]",
      "text/plain": [
       "<Figure size 432x288 with 1 Axes>"
      ]
     },
     "metadata": {
      "needs_background": "light"
     },
     "output_type": "display_data"
    },
    {
     "data": {
      "text/plain": [
       "<sympy.plotting.plot.Plot at 0x7fa12a155130>"
      ]
     },
     "execution_count": 38,
     "metadata": {},
     "output_type": "execute_result"
    }
   ],
   "source": [
    "x_card = (1 - cos(t))*cos(t)\n",
    "y_card = (1 - cos(t))*sin(t)\n",
    "plot_parametric(x_card, y_card, (t,0,10), aspect_ratio=(1,1))"
   ]
  },
  {
   "cell_type": "markdown",
   "metadata": {},
   "source": [
    "Now we draw a spiral:\n",
    "$$r(\\theta) = A \\theta$$\n",
    "\n",
    "(we'll choose $A=1$)\n",
    "\n",
    "How do we parametrize in terms of $x,y$ ?\n",
    "\n",
    "$$x(t) = r(\\theta) \\cos{(\\theta)} = A \\theta \\cos{(\\theta)}$$\n",
    "$$y(t) = r(\\theta) \\sin{(\\theta)} = A \\theta \\sin{(\\theta)}$$"
   ]
  },
  {
   "cell_type": "code",
   "execution_count": 39,
   "metadata": {
    "execution": {
     "iopub.execute_input": "2021-01-04T07:34:19.554Z",
     "iopub.status.busy": "2021-01-04T07:34:19.539Z",
     "iopub.status.idle": "2021-01-04T07:34:19.670Z",
     "shell.execute_reply": "2021-01-04T07:34:19.693Z"
    }
   },
   "outputs": [
    {
     "data": {
      "image/png": "[encoded data removed]",
      "text/plain": [
       "<Figure size 432x288 with 1 Axes>"
      ]
     },
     "metadata": {
      "needs_background": "light"
     },
     "output_type": "display_data"
    },
    {
     "data": {
      "text/plain": [
       "<sympy.plotting.plot.Plot at 0x7fa120e0eaf0>"
      ]
     },
     "execution_count": 39,
     "metadata": {},
     "output_type": "execute_result"
    }
   ],
   "source": [
    "theta = symbols(\"theta\")\n",
    "x_spir = theta*cos(theta)\n",
    "y_spir = theta*sin(theta)\n",
    "plot_parametric(x_spir, y_spir, (theta,0, 10), aspect_ratio=(1,1))"
   ]
  },
  {
   "cell_type": "markdown",
   "metadata": {},
   "source": [
    "## 3D plotting"
   ]
  },
  {
   "cell_type": "markdown",
   "metadata": {},
   "source": [
    "We can plot in 3D. Let's start with a line:\n",
    "\n",
    "$$x(t) =   -2t $$\n",
    "$$y(t) = 3 + t $$\n",
    "$$z(t) = 1 + t $$"
   ]
  },
  {
   "cell_type": "code",
   "execution_count": 40,
   "metadata": {
    "execution": {
     "iopub.execute_input": "2021-01-04T07:34:22.531Z",
     "iopub.status.busy": "2021-01-04T07:34:22.517Z",
     "iopub.status.idle": "2021-01-04T07:34:22.660Z",
     "shell.execute_reply": "2021-01-04T07:34:22.682Z"
    },
    "scrolled": false
   },
   "outputs": [
    {
     "data": {
      "image/png": "[encoded data removed]",
      "text/plain": [
       "<Figure size 432x288 with 1 Axes>"
      ]
     },
     "metadata": {
      "needs_background": "light"
     },
     "output_type": "display_data"
    },
    {
     "data": {
      "text/plain": [
       "<sympy.plotting.plot.Plot at 0x7fa12a155cd0>"
      ]
     },
     "execution_count": 40,
     "metadata": {},
     "output_type": "execute_result"
    }
   ],
   "source": [
    "plot3d_parametric_line(-2*t, 3+t, 1+t, (t, -5, 5)) "
   ]
  },
  {
   "cell_type": "markdown",
   "metadata": {},
   "source": [
    "And last, but not least, an **helix**.\n",
    "This is the motion of an electric charge with a magnetic field along the $z$ axis:\n",
    "$$ x(t) = \\cos{(t)} $$ \n",
    "$$ y(t) = \\sin{(t)} $$ \n",
    "$$ z(t) = t $$ \n"
   ]
  },
  {
   "cell_type": "code",
   "execution_count": 41,
   "metadata": {
    "execution": {
     "iopub.execute_input": "2021-01-04T07:34:23.741Z",
     "iopub.status.busy": "2021-01-04T07:34:23.727Z",
     "iopub.status.idle": "2021-01-04T07:34:23.871Z",
     "shell.execute_reply": "2021-01-04T07:34:23.894Z"
    }
   },
   "outputs": [
    {
     "data": {
      "image/png": "[encoded data removed]",
      "text/plain": [
       "<Figure size 432x288 with 1 Axes>"
      ]
     },
     "metadata": {
      "needs_background": "light"
     },
     "output_type": "display_data"
    },
    {
     "data": {
      "text/plain": [
       "<sympy.plotting.plot.Plot at 0x7fa120bd4310>"
      ]
     },
     "execution_count": 41,
     "metadata": {},
     "output_type": "execute_result"
    }
   ],
   "source": [
    "x_hel = cos(t)\n",
    "y_hel = sin(t)\n",
    "z_hel = t\n",
    "\n",
    "plot3d_parametric_line(x_hel, y_hel, z_hel, (t, 0, 20))"
   ]
  },
  {
   "cell_type": "code",
   "execution_count": null,
   "metadata": {
    "jupyter": {
     "outputs_hidden": false,
     "source_hidden": false
    },
    "nteract": {
     "transient": {
      "deleting": false
     }
    }
   },
   "outputs": [],
   "source": []
  },
  {
   "cell_type": "code",
   "execution_count": null,
   "metadata": {
    "collapsed": true,
    "jupyter": {
     "outputs_hidden": false,
     "source_hidden": false
    },
    "nteract": {
     "transient": {
      "deleting": false
     }
    }
   },
   "outputs": [],
   "source": []
  },
  {
   "cell_type": "code",
   "execution_count": null,
   "metadata": {
    "collapsed": true,
    "jupyter": {
     "outputs_hidden": false,
     "source_hidden": false
    },
    "nteract": {
     "transient": {
      "deleting": false
     }
    }
   },
   "outputs": [],
   "source": []
  },
  {
   "cell_type": "code",
   "execution_count": null,
   "metadata": {
    "collapsed": true,
    "jupyter": {
     "outputs_hidden": false,
     "source_hidden": false
    },
    "nteract": {
     "transient": {
      "deleting": false
     }
    }
   },
   "outputs": [],
   "source": []
  }
 ],
 "metadata": {
  "kernelspec": {
   "display_name": "Python 3",
   "language": "python",
   "name": "python3"
  },
  "language_info": {
   "codemirror_mode": {
    "name": "ipython",
    "version": 3
   },
   "file_extension": ".py",
   "mimetype": "text/x-python",
   "name": "python",
   "nbconvert_exporter": "python",
   "pygments_lexer": "ipython3",
   "version": "3.8.5"
  },
  "nteract": {
   "version": "0.26.0"
  }
 },
 "nbformat": 4,
 "nbformat_minor": 4
}

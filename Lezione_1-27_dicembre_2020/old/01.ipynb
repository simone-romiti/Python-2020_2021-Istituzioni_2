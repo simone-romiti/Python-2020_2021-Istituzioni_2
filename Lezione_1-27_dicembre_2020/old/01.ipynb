{
  "cells": [
    {
      "cell_type": "markdown",
      "source": [
        "# Introduction to python and sympy\n",
        "\n",
        "In this lecture we'll see the basics of python programming, focusing on the sympy module.\n",
        "Sympy is a CAS (Computer Algebra System), with many useful functionalities:\n",
        "\n",
        "* Solution of algebraic equations\n",
        "* Limits, derivatives, integrals\n",
        "* Linear algebra\n",
        "* 2D and 3D plot\n",
        "* and many more...\n",
        "\n",
        "for further reference see the [sympy website](https://www.sympy.org/en/index.html)"
      ],
      "metadata": {
        "nteract": {
          "transient": {
            "deleting": false
          }
        }
      }
    },
    {
      "cell_type": "markdown",
      "source": [
        "## Introduction to the python programming language\n",
        "\n",
        "Here we familiarize with the python language. We'll see how to:\n",
        "\n",
        "* Define variables\n",
        "* Combine them\n",
        "* Understand and use data types\n",
        "* Print variables on the screen\n",
        "* Control the program flow with **if-else** statements and **for**, **while** loops\n",
        "* Define functions"
      ],
      "metadata": {
        "nteract": {
          "transient": {
            "deleting": false
          }
        }
      }
    },
    {
      "cell_type": "markdown",
      "source": [
        "### Basics"
      ],
      "metadata": {
        "nteract": {
          "transient": {
            "deleting": false
          }
        }
      }
    },
    {
      "cell_type": "code",
      "source": [
        "a = 3 # define a number\n",
        "a1, a2 = 10, 45\n",
        "s1 = \"Physics\" # define a string\n",
        "s2 = \"Mathematics\" # anothe string\n",
        "s3 = \"Architecture\" # your favourite string!\n",
        "s4 = \"Python\" # today's string\n",
        "b = (s1 == s2) # define a boolean (True or False)"
      ],
      "outputs": [],
      "execution_count": 2,
      "metadata": {
        "execution": {
          "iopub.execute_input": "2020-12-12T10:24:54.841Z",
          "iopub.status.busy": "2020-12-12T10:24:54.831Z",
          "iopub.status.idle": "2020-12-12T10:24:54.859Z",
          "shell.execute_reply": "2020-12-12T10:24:54.869Z"
        },
        "jupyter": {
          "outputs_hidden": false,
          "source_hidden": false
        },
        "nteract": {
          "transient": {
            "deleting": false
          }
        }
      }
    },
    {
      "cell_type": "code",
      "source": [
        "# We can print our variables\n",
        "print(\"Hello!\") # printing a string\n",
        "print(\"Good morning students!\",\"This is a lecture on\", s4) # printing more arguments"
      ],
      "outputs": [
        {
          "output_type": "stream",
          "name": "stdout",
          "text": [
            "Hello!\n",
            "Good morning students! This is a lecture on Python\n"
          ]
        }
      ],
      "execution_count": 3,
      "metadata": {
        "execution": {
          "iopub.execute_input": "2020-12-12T10:24:55.080Z",
          "iopub.status.busy": "2020-12-12T10:24:55.066Z",
          "iopub.status.idle": "2020-12-12T10:24:55.104Z",
          "shell.execute_reply": "2020-12-12T10:24:55.118Z"
        },
        "jupyter": {
          "outputs_hidden": false,
          "source_hidden": false
        },
        "nteract": {
          "transient": {
            "deleting": false
          }
        }
      }
    },
    {
      "cell_type": "code",
      "source": [
        "print(\"We can print other types of variables as well:\")\n",
        "print(a, \"is the magic number\")\n",
        "print(\"Is\",s1,\"the same thing as\",s2, \"?\", b)"
      ],
      "outputs": [
        {
          "output_type": "stream",
          "name": "stdout",
          "text": [
            "We can print other types of variables as well:\n",
            "3 is the magic number\n",
            "Is Physics the same thing as Mathematics ? False\n"
          ]
        }
      ],
      "execution_count": 4,
      "metadata": {
        "execution": {
          "iopub.execute_input": "2020-12-12T10:24:55.443Z",
          "iopub.status.busy": "2020-12-12T10:24:55.426Z",
          "iopub.status.idle": "2020-12-12T10:24:55.472Z",
          "shell.execute_reply": "2020-12-12T10:24:55.488Z"
        },
        "jupyter": {
          "outputs_hidden": false,
          "source_hidden": false
        },
        "nteract": {
          "transient": {
            "deleting": false
          }
        }
      }
    },
    {
      "cell_type": "code",
      "source": [
        "print(\"Now let's combine our variables!\")\n",
        "x1= 0.4\n",
        "x2 = 7.9\n",
        "print(x1, \"-\", x2, \"=\", x1-x2)\n",
        "\n",
        "p = \"Congratulations! You passed the exam with \" + \"30/30\"\n",
        "print(p)\n",
        "nA = len(s3) # length of the string (number of characters)\n",
        "print(\"The string '\",s3,\"' contains\", nA, \"characters\")"
      ],
      "outputs": [
        {
          "output_type": "stream",
          "name": "stdout",
          "text": [
            "Now let's combine our variables!\n",
            "0.4 - 7.9 = -7.5\n",
            "Congratulations! You passed the exam with 30/30\n",
            "The string ' Architecture ' contains 12 characters\n"
          ]
        }
      ],
      "execution_count": 5,
      "metadata": {
        "execution": {
          "iopub.execute_input": "2020-12-12T10:24:55.701Z",
          "iopub.status.busy": "2020-12-12T10:24:55.688Z",
          "iopub.status.idle": "2020-12-12T10:24:55.725Z",
          "shell.execute_reply": "2020-12-12T10:24:55.736Z"
        },
        "jupyter": {
          "outputs_hidden": false,
          "source_hidden": false
        },
        "nteract": {
          "transient": {
            "deleting": false
          }
        }
      }
    },
    {
      "cell_type": "code",
      "source": [
        "print(\"We can find out the data type of our variable:\")\n",
        "print(\"The type of 'a' is;\", type(a))\n",
        "x = 29.8\n",
        "print(\"The type of 'x' is\", type(x))\n",
        "print(\"'b' is a\", type(b))"
      ],
      "outputs": [
        {
          "output_type": "stream",
          "name": "stdout",
          "text": [
            "We can find out the data type of our variable:\n",
            "The type of 'a' is; <class 'int'>\n",
            "The type of 'x' is <class 'float'>\n",
            "'b' is a <class 'bool'>\n"
          ]
        }
      ],
      "execution_count": 6,
      "metadata": {
        "execution": {
          "iopub.execute_input": "2020-12-12T10:24:55.884Z",
          "iopub.status.busy": "2020-12-12T10:24:55.870Z",
          "iopub.status.idle": "2020-12-12T10:24:55.910Z",
          "shell.execute_reply": "2020-12-12T10:24:55.919Z"
        },
        "jupyter": {
          "outputs_hidden": false,
          "source_hidden": false
        },
        "nteract": {
          "transient": {
            "deleting": false
          }
        }
      }
    },
    {
      "cell_type": "code",
      "source": [
        "print(\"We can automate our processes defining functions\")\n",
        "def introduce(name):\n",
        "  print(\"Hi, my name is\", name)\n",
        "\n",
        "print(\"We can call the function as many times we want\")\n",
        "introduce(\"Laura\")\n",
        "introduce(\"Camillo\")\n",
        "introduce(\"Simone\")\n",
        "  \n",
        "  "
      ],
      "outputs": [
        {
          "output_type": "stream",
          "name": "stdout",
          "text": [
            "We can automate our processes defining functions\n",
            "We can call the function as many times we want\n",
            "Hi, my name is Laura\n",
            "Hi, my name is Camillo\n",
            "Hi, my name is Simone\n"
          ]
        }
      ],
      "execution_count": 7,
      "metadata": {
        "execution": {
          "iopub.execute_input": "2020-12-12T10:24:56.189Z",
          "iopub.status.busy": "2020-12-12T10:24:56.179Z",
          "iopub.status.idle": "2020-12-12T10:24:56.214Z",
          "shell.execute_reply": "2020-12-12T10:24:56.228Z"
        },
        "jupyter": {
          "outputs_hidden": false,
          "source_hidden": false
        },
        "nteract": {
          "transient": {
            "deleting": false
          }
        }
      }
    },
    {
      "cell_type": "markdown",
      "source": [
        "### Control flow\n"
      ],
      "metadata": {
        "nteract": {
          "transient": {
            "deleting": false
          }
        }
      }
    },
    {
      "cell_type": "code",
      "source": [
        "print(\"Boolean values can control the conditional execution of some piece of code:\")\n",
        "if 3>0:\n",
        "  print(\"3 is greater than 0\")\n",
        "else:\n",
        "  print(\"3 is less than 0\")"
      ],
      "outputs": [
        {
          "output_type": "stream",
          "name": "stdout",
          "text": [
            "Boolean values can control the conditional execution of some piece of code:\n",
            "3 is greater than 0\n"
          ]
        }
      ],
      "execution_count": 8,
      "metadata": {
        "execution": {
          "iopub.execute_input": "2020-12-12T10:24:56.698Z",
          "iopub.status.busy": "2020-12-12T10:24:56.684Z",
          "iopub.status.idle": "2020-12-12T10:24:56.720Z",
          "shell.execute_reply": "2020-12-12T10:24:56.733Z"
        },
        "jupyter": {
          "outputs_hidden": false,
          "source_hidden": false
        },
        "nteract": {
          "transient": {
            "deleting": false
          }
        }
      }
    },
    {
      "cell_type": "code",
      "source": [
        "print(\"Now let's try with something non-trivial\")\n",
        "from datetime import date # module for date and time\n",
        "today = date.today()\n",
        "print(\"Today's date:\", today)\n",
        "\n",
        "print(\"Note:\", type(today), \"is not a string\")\n",
        "AMD = str(today).split(\"-\") # converting to string and splitting\n",
        "D =  int(AMD[2]) # comverting to int\n",
        "if D%2==0: # D is even\n",
        "  print(\"Today is an even day\")\n",
        "else:\n",
        "  print(\"Today is an odd day\")"
      ],
      "outputs": [
        {
          "output_type": "stream",
          "name": "stdout",
          "text": [
            "Now let's try with something non-trivial\n",
            "Today's date: 2020-12-12\n",
            "Note: <class 'datetime.date'> is not a string\n",
            "Today is an even day\n"
          ]
        }
      ],
      "execution_count": 9,
      "metadata": {
        "execution": {
          "iopub.execute_input": "2020-12-12T10:24:56.960Z",
          "iopub.status.busy": "2020-12-12T10:24:56.949Z",
          "iopub.status.idle": "2020-12-12T10:24:56.980Z",
          "shell.execute_reply": "2020-12-12T10:24:56.989Z"
        },
        "jupyter": {
          "outputs_hidden": false,
          "source_hidden": false
        },
        "nteract": {
          "transient": {
            "deleting": false
          }
        }
      }
    },
    {
      "cell_type": "code",
      "source": [
        "print(\"Now let's check greek pi\")\n",
        "from numpy import pi as pi\n",
        "if type(pi)==int:\n",
        "  print(pi,\"is an integer\")\n",
        "else:\n",
        "  print(pi, \"is not an integer\")"
      ],
      "outputs": [
        {
          "output_type": "stream",
          "name": "stdout",
          "text": [
            "Now let's check greek pi\n",
            "3.141592653589793 is not an integer\n"
          ]
        }
      ],
      "execution_count": 10,
      "metadata": {
        "execution": {
          "iopub.execute_input": "2020-12-12T10:24:57.133Z",
          "iopub.status.busy": "2020-12-12T10:24:57.121Z",
          "iopub.status.idle": "2020-12-12T10:24:57.251Z",
          "shell.execute_reply": "2020-12-12T10:24:57.307Z"
        },
        "jupyter": {
          "outputs_hidden": false,
          "source_hidden": false
        },
        "nteract": {
          "transient": {
            "deleting": false
          }
        }
      }
    },
    {
      "cell_type": "code",
      "source": [
        "print(\"'for' loop\")\n",
        "for f in [\"Al\",\"John\",\"Jack\"]:    # ciclo for\n",
        "    print(\"Good morning,\", f, \", how are you?\")\n"
      ],
      "outputs": [
        {
          "output_type": "stream",
          "name": "stdout",
          "text": [
            "'for' loop\n",
            "Good morning, Al , how are you?\n",
            "Good morning, John , how are you?\n",
            "Good morning, Jack , how are you?\n"
          ]
        }
      ],
      "execution_count": 11,
      "metadata": {
        "execution": {
          "iopub.execute_input": "2020-12-12T10:24:57.277Z",
          "iopub.status.busy": "2020-12-12T10:24:57.267Z",
          "iopub.status.idle": "2020-12-12T10:24:57.299Z",
          "shell.execute_reply": "2020-12-12T10:24:57.313Z"
        },
        "jupyter": {
          "outputs_hidden": false,
          "source_hidden": false
        },
        "nteract": {
          "transient": {
            "deleting": false
          }
        }
      }
    },
    {
      "cell_type": "code",
      "source": [
        "print(\"'while' loop\")\n",
        "T=0\n",
        "print(\"You can start your test\")\n",
        "while T<7:\n",
        "  print(7-T, \"minutes left\")\n",
        "  T = T + 1\n",
        "# end of while\n",
        "print(\"Time is up!\")"
      ],
      "outputs": [
        {
          "output_type": "stream",
          "name": "stdout",
          "text": [
            "'while' loop\n",
            "You can start your test\n",
            "7 minutes left\n",
            "6 minutes left\n",
            "5 minutes left\n",
            "4 minutes left\n",
            "3 minutes left\n",
            "2 minutes left\n",
            "1 minutes left\n",
            "Time is up!\n"
          ]
        }
      ],
      "execution_count": 12,
      "metadata": {
        "execution": {
          "iopub.execute_input": "2020-12-12T10:24:57.379Z",
          "iopub.status.busy": "2020-12-12T10:24:57.370Z",
          "iopub.status.idle": "2020-12-12T10:24:57.398Z",
          "shell.execute_reply": "2020-12-12T10:24:57.408Z"
        },
        "jupyter": {
          "outputs_hidden": false,
          "source_hidden": false
        },
        "nteract": {
          "transient": {
            "deleting": false
          }
        }
      }
    },
    {
      "cell_type": "code",
      "source": [],
      "outputs": [],
      "execution_count": null,
      "metadata": {
        "collapsed": true,
        "jupyter": {
          "source_hidden": false,
          "outputs_hidden": false
        },
        "nteract": {
          "transient": {
            "deleting": false
          }
        }
      }
    }
  ],
  "metadata": {
    "kernelspec": {
      "display_name": "Python 3",
      "language": "python",
      "name": "python3"
    },
    "language_info": {
      "name": "python",
      "version": "3.8.5",
      "mimetype": "text/x-python",
      "codemirror_mode": {
        "name": "ipython",
        "version": 3
      },
      "pygments_lexer": "ipython3",
      "nbconvert_exporter": "python",
      "file_extension": ".py"
    },
    "nteract": {
      "version": "0.26.0"
    }
  },
  "nbformat": 4,
  "nbformat_minor": 4
}
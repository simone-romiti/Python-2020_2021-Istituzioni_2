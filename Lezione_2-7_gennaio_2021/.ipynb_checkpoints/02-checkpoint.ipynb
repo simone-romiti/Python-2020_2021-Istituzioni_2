{
 "cells": [
  {
   "cell_type": "code",
   "execution_count": 24,
   "metadata": {
    "execution": {
     "iopub.execute_input": "2020-12-12T14:10:20.894Z",
     "iopub.status.busy": "2020-12-12T14:10:20.890Z",
     "iopub.status.idle": "2020-12-12T14:10:21.089Z",
     "shell.execute_reply": "2020-12-12T14:10:21.076Z"
    }
   },
   "outputs": [],
   "source": [
    "from sympy import * # we import the entire sympy\n",
    "from sympy.plotting import * "
   ]
  },
  {
   "cell_type": "code",
   "execution_count": 25,
   "metadata": {
    "execution": {
     "iopub.execute_input": "2020-12-12T14:10:21.101Z",
     "iopub.status.busy": "2020-12-12T14:10:21.096Z",
     "iopub.status.idle": "2020-12-12T14:10:21.107Z",
     "shell.execute_reply": "2020-12-12T14:10:21.079Z"
    }
   },
   "outputs": [],
   "source": [
    "x, y, z = symbols('x y z') # defining symbols"
   ]
  },
  {
   "cell_type": "markdown",
   "metadata": {
    "nteract": {
     "transient": {
      "deleting": false
     }
    }
   },
   "source": [
    "### solution of algebraic equations"
   ]
  },
  {
   "cell_type": "code",
   "execution_count": 26,
   "metadata": {
    "execution": {
     "iopub.execute_input": "2020-12-12T14:10:21.119Z",
     "iopub.status.busy": "2020-12-12T14:10:21.114Z",
     "iopub.status.idle": "2020-12-12T14:10:21.144Z",
     "shell.execute_reply": "2020-12-12T14:10:21.177Z"
    },
    "scrolled": true
   },
   "outputs": [
    {
     "name": "stdout",
     "output_type": "stream",
     "text": [
      "We can solve algebraic equations\n",
      "[-2, 2]\n"
     ]
    },
    {
     "data": {
      "text/latex": [
       "$\\displaystyle x = -2$"
      ],
      "text/plain": [
       "Eq(x, -2)"
      ]
     },
     "metadata": {},
     "output_type": "display_data"
    },
    {
     "data": {
      "text/latex": [
       "$\\displaystyle x = 2$"
      ],
      "text/plain": [
       "Eq(x, 2)"
      ]
     },
     "metadata": {},
     "output_type": "display_data"
    }
   ],
   "source": [
    "print(\"We can solve algebraic equations\")\n",
    "S1 = solve(x**2-4, x)\n",
    "print(S1)\n",
    "for s in S1:\n",
    "  display(Eq(x,s))\n"
   ]
  },
  {
   "cell_type": "code",
   "execution_count": 27,
   "metadata": {
    "execution": {
     "iopub.execute_input": "2020-12-12T14:10:21.156Z",
     "iopub.status.busy": "2020-12-12T14:10:21.151Z",
     "iopub.status.idle": "2020-12-12T14:10:21.317Z",
     "shell.execute_reply": "2020-12-12T14:10:21.536Z"
    },
    "scrolled": true
   },
   "outputs": [
    {
     "name": "stdout",
     "output_type": "stream",
     "text": [
      "We want to solve the following equation:\n"
     ]
    },
    {
     "data": {
      "text/latex": [
       "$\\displaystyle x^{2} - y + 1 = 0$"
      ],
      "text/plain": [
       "Eq(x**2 - y + 1, 0)"
      ]
     },
     "metadata": {},
     "output_type": "display_data"
    },
    {
     "name": "stdout",
     "output_type": "stream",
     "text": [
      "The solutions are:\n"
     ]
    },
    {
     "data": {
      "text/latex": [
       "$\\displaystyle x = - \\sqrt{y - 1}$"
      ],
      "text/plain": [
       "Eq(x, -sqrt(y - 1))"
      ]
     },
     "metadata": {},
     "output_type": "display_data"
    },
    {
     "data": {
      "text/latex": [
       "$\\displaystyle x = \\sqrt{y - 1}$"
      ],
      "text/plain": [
       "Eq(x, sqrt(y - 1))"
      ]
     },
     "metadata": {},
     "output_type": "display_data"
    }
   ],
   "source": [
    "eqn = Eq(x**2-y+1, 0)\n",
    "print(\"We want to solve the following equation:\")\n",
    "display(eqn)\n",
    "print(\"The solutions are:\")\n",
    "S2 = solve(eqn,x)\n",
    "for s in S2:\n",
    "  display(Eq(x,s))"
   ]
  },
  {
   "cell_type": "markdown",
   "metadata": {
    "nteract": {
     "transient": {
      "deleting": false
     }
    }
   },
   "source": [
    "## Derivatives and integrals\n"
   ]
  },
  {
   "cell_type": "code",
   "execution_count": 28,
   "metadata": {
    "execution": {
     "iopub.execute_input": "2020-12-12T14:10:21.332Z",
     "iopub.status.busy": "2020-12-12T14:10:21.326Z",
     "iopub.status.idle": "2020-12-12T14:10:21.347Z",
     "shell.execute_reply": "2020-12-12T14:10:21.541Z"
    },
    "jupyter": {
     "outputs_hidden": false,
     "source_hidden": false
    },
    "nteract": {
     "transient": {
      "deleting": false
     }
    }
   },
   "outputs": [
    {
     "data": {
      "text/latex": [
       "$\\displaystyle - \\sin{\\left(x \\right)}$"
      ],
      "text/plain": [
       "-sin(x)"
      ]
     },
     "metadata": {},
     "output_type": "display_data"
    }
   ],
   "source": [
    "f1 = cos(x)\n",
    "display(diff(f1, x))"
   ]
  },
  {
   "cell_type": "code",
   "execution_count": 29,
   "metadata": {
    "execution": {
     "iopub.execute_input": "2020-12-12T14:10:21.359Z",
     "iopub.status.busy": "2020-12-12T14:10:21.354Z",
     "iopub.status.idle": "2020-12-12T14:10:21.406Z",
     "shell.execute_reply": "2020-12-12T14:10:21.544Z"
    },
    "jupyter": {
     "outputs_hidden": false,
     "source_hidden": false
    },
    "nteract": {
     "transient": {
      "deleting": false
     }
    }
   },
   "outputs": [
    {
     "data": {
      "text/latex": [
       "$\\displaystyle \\left(\\frac{e^{x} \\log{\\left(x \\right)}}{x^{5}}\\right)^{\\operatorname{atan}{\\left(x \\right)}}$"
      ],
      "text/plain": [
       "(exp(x)*log(x)/x**5)**atan(x)"
      ]
     },
     "metadata": {},
     "output_type": "display_data"
    },
    {
     "name": "stdout",
     "output_type": "stream",
     "text": [
      "the derivative is:\n"
     ]
    },
    {
     "data": {
      "text/latex": [
       "$\\displaystyle \\left(\\frac{e^{x} \\log{\\left(x \\right)}}{x^{5}}\\right)^{\\operatorname{atan}{\\left(x \\right)}} \\left(\\frac{x^{5} \\left(\\frac{e^{x} \\log{\\left(x \\right)}}{x^{5}} - \\frac{5 e^{x} \\log{\\left(x \\right)}}{x^{6}} + \\frac{e^{x}}{x^{6}}\\right) e^{- x} \\operatorname{atan}{\\left(x \\right)}}{\\log{\\left(x \\right)}} + \\frac{\\log{\\left(\\frac{e^{x} \\log{\\left(x \\right)}}{x^{5}} \\right)}}{x^{2} + 1}\\right)$"
      ],
      "text/plain": [
       "(exp(x)*log(x)/x**5)**atan(x)*(x**5*(exp(x)*log(x)/x**5 - 5*exp(x)*log(x)/x**6 + exp(x)/x**6)*exp(-x)*atan(x)/log(x) + log(exp(x)*log(x)/x**5)/(x**2 + 1))"
      ]
     },
     "metadata": {},
     "output_type": "display_data"
    }
   ],
   "source": [
    "f2 = (exp(x)*ln(x)/x**5)**(atan(x))\n",
    "display(f2)\n",
    "print(\"the derivative is:\")\n",
    "display(diff(f2, x))"
   ]
  },
  {
   "cell_type": "code",
   "execution_count": 30,
   "metadata": {
    "execution": {
     "iopub.execute_input": "2020-12-12T14:10:21.420Z",
     "iopub.status.busy": "2020-12-12T14:10:21.414Z",
     "iopub.status.idle": "2020-12-12T14:10:21.441Z",
     "shell.execute_reply": "2020-12-12T14:10:21.548Z"
    },
    "jupyter": {
     "outputs_hidden": false,
     "source_hidden": false
    },
    "nteract": {
     "transient": {
      "deleting": false
     }
    }
   },
   "outputs": [
    {
     "data": {
      "text/latex": [
       "$\\displaystyle \\int \\cos{\\left(x \\right)}\\, dx = \\sin{\\left(x \\right)}$"
      ],
      "text/plain": [
       "Eq(Integral(cos(x), x), sin(x))"
      ]
     },
     "metadata": {},
     "output_type": "display_data"
    }
   ],
   "source": [
    "I1 = Integral(f1, x)\n",
    "display(Eq(I1, I1.doit()))"
   ]
  },
  {
   "cell_type": "code",
   "execution_count": 31,
   "metadata": {
    "execution": {
     "iopub.execute_input": "2020-12-12T14:10:21.452Z",
     "iopub.status.busy": "2020-12-12T14:10:21.448Z",
     "iopub.status.idle": "2020-12-12T14:10:21.468Z",
     "shell.execute_reply": "2020-12-12T14:10:21.551Z"
    },
    "jupyter": {
     "outputs_hidden": false,
     "source_hidden": false
    },
    "nteract": {
     "transient": {
      "deleting": false
     }
    }
   },
   "outputs": [
    {
     "data": {
      "text/latex": [
       "$\\displaystyle \\frac{x^{5} \\log{\\left(x \\right)}}{5} - \\frac{x^{5}}{25}$"
      ],
      "text/plain": [
       "x**5*log(x)/5 - x**5/25"
      ]
     },
     "metadata": {},
     "output_type": "display_data"
    }
   ],
   "source": [
    "f3 = (x**4) * log(x)\n",
    "I3 = Integral(f3,x)\n",
    "display(I3.doit())"
   ]
  },
  {
   "cell_type": "code",
   "execution_count": 32,
   "metadata": {
    "execution": {
     "iopub.execute_input": "2020-12-12T14:12:12.333Z",
     "iopub.status.busy": "2020-12-12T14:12:12.328Z",
     "iopub.status.idle": "2020-12-12T14:12:12.405Z",
     "shell.execute_reply": "2020-12-12T14:12:12.416Z"
    },
    "jupyter": {
     "outputs_hidden": false,
     "source_hidden": false
    },
    "nteract": {
     "transient": {
      "deleting": false
     }
    }
   },
   "outputs": [
    {
     "data": {
      "text/latex": [
       "$\\displaystyle \\int\\limits_{- \\cos{\\left(x \\right)}}^{\\cos{\\left(x \\right)}}\\int\\limits_{0}^{1} e^{x} e^{y}\\, dx\\, dy$"
      ],
      "text/plain": [
       "Integral(exp(x)*exp(y), (x, 0, 1), (y, -cos(x), cos(x)))"
      ]
     },
     "metadata": {},
     "output_type": "display_data"
    },
    {
     "data": {
      "text/latex": [
       "$\\displaystyle \\left(-1 + e\\right) e^{\\cos{\\left(x \\right)}} - \\left(-1 + e\\right) e^{- \\cos{\\left(x \\right)}}$"
      ],
      "text/plain": [
       "(-1 + E)*exp(cos(x)) - (-1 + E)*exp(-cos(x))"
      ]
     },
     "execution_count": 32,
     "metadata": {},
     "output_type": "execute_result"
    }
   ],
   "source": [
    "f4 = exp(x)*exp(y)\n",
    "I4 = Integral(f4, (x, 0,1), (y,-f1, f1))\n",
    "display(I4)\n",
    "I4.doit().doit()"
   ]
  },
  {
   "cell_type": "markdown",
   "metadata": {
    "collapsed": true,
    "jupyter": {
     "outputs_hidden": false,
     "source_hidden": false
    },
    "nteract": {
     "transient": {
      "deleting": false
     }
    }
   },
   "source": [
    "### Matrices and vectors\n",
    "\n",
    "Sympy can help us with linear algebra as well"
   ]
  },
  {
   "cell_type": "markdown",
   "metadata": {},
   "source": [
    "#### Vectors"
   ]
  },
  {
   "cell_type": "code",
   "execution_count": 33,
   "metadata": {},
   "outputs": [],
   "source": [
    "u=Matrix([1,3,5])\n",
    "v=Matrix([3,1,1])"
   ]
  },
  {
   "cell_type": "code",
   "execution_count": 34,
   "metadata": {
    "scrolled": true
   },
   "outputs": [
    {
     "data": {
      "text/latex": [
       "$\\displaystyle \\left[\\begin{matrix}1\\\\3\\\\5\\end{matrix}\\right]$"
      ],
      "text/plain": [
       "Matrix([\n",
       "[1],\n",
       "[3],\n",
       "[5]])"
      ]
     },
     "metadata": {},
     "output_type": "display_data"
    }
   ],
   "source": [
    "display(u)"
   ]
  },
  {
   "cell_type": "code",
   "execution_count": 35,
   "metadata": {},
   "outputs": [
    {
     "data": {
      "text/latex": [
       "$\\displaystyle 1$"
      ],
      "text/plain": [
       "1"
      ]
     },
     "metadata": {},
     "output_type": "display_data"
    }
   ],
   "source": [
    "display(u[0])"
   ]
  },
  {
   "cell_type": "code",
   "execution_count": 36,
   "metadata": {},
   "outputs": [
    {
     "data": {
      "text/latex": [
       "$\\displaystyle 11$"
      ],
      "text/plain": [
       "11"
      ]
     },
     "execution_count": 36,
     "metadata": {},
     "output_type": "execute_result"
    }
   ],
   "source": [
    "u.dot(v) # scalar product"
   ]
  },
  {
   "cell_type": "code",
   "execution_count": 37,
   "metadata": {},
   "outputs": [
    {
     "data": {
      "text/latex": [
       "$\\displaystyle \\left[\\begin{matrix}-2\\\\14\\\\-8\\end{matrix}\\right]$"
      ],
      "text/plain": [
       "Matrix([\n",
       "[-2],\n",
       "[14],\n",
       "[-8]])"
      ]
     },
     "execution_count": 37,
     "metadata": {},
     "output_type": "execute_result"
    }
   ],
   "source": [
    "u.cross(v) # cross product"
   ]
  },
  {
   "cell_type": "markdown",
   "metadata": {},
   "source": [
    "#### Matrices"
   ]
  },
  {
   "cell_type": "code",
   "execution_count": 38,
   "metadata": {},
   "outputs": [
    {
     "data": {
      "text/latex": [
       "$\\displaystyle \\left[\\begin{matrix}1 & 3 & 5\\\\1 & 4 & 2\\\\3 & 1 & 3\\end{matrix}\\right]$"
      ],
      "text/plain": [
       "Matrix([\n",
       "[1, 3, 5],\n",
       "[1, 4, 2],\n",
       "[3, 1, 3]])"
      ]
     },
     "metadata": {},
     "output_type": "display_data"
    }
   ],
   "source": [
    "M1 = Matrix([[1,3,5],[1,4,2],[3,1,3]])\n",
    "display(M1)"
   ]
  },
  {
   "cell_type": "code",
   "execution_count": 39,
   "metadata": {},
   "outputs": [
    {
     "data": {
      "text/latex": [
       "$\\displaystyle 5$"
      ],
      "text/plain": [
       "5"
      ]
     },
     "execution_count": 39,
     "metadata": {},
     "output_type": "execute_result"
    }
   ],
   "source": [
    "M1[0,2]"
   ]
  },
  {
   "cell_type": "markdown",
   "metadata": {},
   "source": [
    "### Product between matrices\n",
    "\n",
    "Given two matrices $A_{i,j} (n,m) $ and $C_{i,j} (m,p)$, we define the **rows** $\\times$ **columns** product as the matrix $C_{i,j} (n,p)$ with elements:\n",
    "\n",
    "$$C_{i,j} = \\sum_{k=1}^{m} A_{i,k} \\, B_{k,j}$$\n",
    "\n",
    "![file](./Matrix_multiplication.png)"
   ]
  },
  {
   "cell_type": "code",
   "execution_count": 40,
   "metadata": {},
   "outputs": [
    {
     "data": {
      "text/latex": [
       "$\\displaystyle \\left[\\begin{matrix}35\\\\23\\\\21\\end{matrix}\\right]$"
      ],
      "text/plain": [
       "Matrix([\n",
       "[35],\n",
       "[23],\n",
       "[21]])"
      ]
     },
     "execution_count": 40,
     "metadata": {},
     "output_type": "execute_result"
    }
   ],
   "source": [
    "M1*u"
   ]
  },
  {
   "cell_type": "code",
   "execution_count": 41,
   "metadata": {},
   "outputs": [],
   "source": [
    "M2=Matrix([[8,3,2],[3,2,2]])"
   ]
  },
  {
   "cell_type": "code",
   "execution_count": 42,
   "metadata": {
    "scrolled": true
   },
   "outputs": [
    {
     "data": {
      "text/latex": [
       "$\\displaystyle \\left[\\begin{matrix}17 & 38 & 52\\\\11 & 19 & 25\\end{matrix}\\right]$"
      ],
      "text/plain": [
       "Matrix([\n",
       "[17, 38, 52],\n",
       "[11, 19, 25]])"
      ]
     },
     "execution_count": 42,
     "metadata": {},
     "output_type": "execute_result"
    }
   ],
   "source": [
    "M2*M1 "
   ]
  },
  {
   "cell_type": "code",
   "execution_count": null,
   "metadata": {},
   "outputs": [],
   "source": []
  }
 ],
 "metadata": {
  "kernelspec": {
   "display_name": "Python 3",
   "language": "python",
   "name": "python3"
  },
  "language_info": {
   "codemirror_mode": {
    "name": "ipython",
    "version": 3
   },
   "file_extension": ".py",
   "mimetype": "text/x-python",
   "name": "python",
   "nbconvert_exporter": "python",
   "pygments_lexer": "ipython3",
   "version": "3.8.5"
  },
  "nteract": {
   "version": "0.26.0"
  }
 },
 "nbformat": 4,
 "nbformat_minor": 4
}
